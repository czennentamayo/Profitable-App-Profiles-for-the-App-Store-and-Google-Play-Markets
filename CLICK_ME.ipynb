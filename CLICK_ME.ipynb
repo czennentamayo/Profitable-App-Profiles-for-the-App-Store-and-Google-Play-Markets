{
 "cells": [
  {
   "cell_type": "markdown",
   "metadata": {},
   "source": [
    "# Profitable App Profiles for the App Store and Google Play Markets"
   ]
  },
  {
   "cell_type": "markdown",
   "metadata": {},
   "source": [
    "Our aim in this project is to find mobile app profiles that are profitable for the App Store and Google Play markets. We're working as data analysts for a company that builds Android and iOS mobile apps, and our job is to enable our team of developers to make data-driven decisions with respect to the kind of apps they build.\n",
    "\n",
    "At our company, we only build apps that are free to download and install, and our main source of revenue consists of in-app ads. This means that our revenue for any given app is mostly influenced by the number of users that use our app. Our goal for this project is to analyze data to help our developers understand what kinds of apps are likely to attract more users."
   ]
  },
  {
   "cell_type": "markdown",
   "metadata": {},
   "source": [
    "## Opening and Exploring the Data:"
   ]
  },
  {
   "cell_type": "markdown",
   "metadata": {},
   "source": [
    "**Our data sets:**\n",
    "\n",
    "- For our Google Play Store data set, we will be using [this data set](https://www.kaggle.com/lava18/google-play-store-apps) prepared by machine learning engineer [Lavanya Gupta](https://www.kaggle.com/lava18).\n",
    "\n",
    "- Four our Apple Store data set, we will be using [this data set](https://www.kaggle.com/ramamet4/app-store-apple-data-set-10k-apps) prepared by research engineer [Ramanathan](https://www.kaggle.com/ramamet4)."
   ]
  },
  {
   "cell_type": "markdown",
   "metadata": {},
   "source": [
    "The function below will be used to display a limited number of rows in our data set and it's size."
   ]
  },
  {
   "cell_type": "code",
   "execution_count": 1,
   "metadata": {},
   "outputs": [],
   "source": [
    "def explore_data(dataset, start, end, rows_and_columns=False):\n",
    "    dataset_slice = dataset[start:end]    \n",
    "    for row in dataset_slice:\n",
    "        print(row)\n",
    "        print('\\n')\n",
    "\n",
    "    if rows_and_columns:\n",
    "        print('Number of rows:', len(dataset))\n",
    "        print('Number of columns:', len(dataset[0]))"
   ]
  },
  {
   "cell_type": "markdown",
   "metadata": {},
   "source": [
    "The function below will be used to open our data sets and ready to be cleaned and analyzed."
   ]
  },
  {
   "cell_type": "code",
   "execution_count": 2,
   "metadata": {},
   "outputs": [],
   "source": [
    "def open_file(file_name):\n",
    "    from csv import reader \n",
    "    opened_file = open(file_name)\n",
    "    read_file = reader(opened_file)\n",
    "    data_set = list(read_file)\n",
    "    return data_set"
   ]
  },
  {
   "cell_type": "markdown",
   "metadata": {},
   "source": [
    "**Overview of Google Play Store Data Set:**\n",
    "\n",
    "By opening our Google Play Store data set, we can see that it has a total of 10,841 entries (Not including the header) and 13 columns.\n",
    "\n",
    "We will be primarily focusing on this particular columns:\n",
    "1. 'App' - Contains the name of the application.\n",
    "2. 'Category' - Contains the category of the application.\n",
    "3. 'Reviews' - Tells us the number of times the application has been reviewed.\n",
    "4. 'Installs' - Tells us the number of times the application has been installed.\n",
    "5. 'Price' - Tells us the price of the application.\n",
    "6. 'Genres' - Tells us the genre of the application."
   ]
  },
  {
   "cell_type": "code",
   "execution_count": 3,
   "metadata": {
    "scrolled": true
   },
   "outputs": [
    {
     "name": "stdout",
     "output_type": "stream",
     "text": [
      "['App', 'Category', 'Rating', 'Reviews', 'Size', 'Installs', 'Type', 'Price', 'Content Rating', 'Genres', 'Last Updated', 'Current Ver', 'Android Ver']\n",
      "\n",
      "\n",
      "['Photo Editor & Candy Camera & Grid & ScrapBook', 'ART_AND_DESIGN', '4.1', '159', '19M', '10,000+', 'Free', '0', 'Everyone', 'Art & Design', 'January 7, 2018', '1.0.0', '4.0.3 and up']\n",
      "\n",
      "\n",
      "['Coloring book moana', 'ART_AND_DESIGN', '3.9', '967', '14M', '500,000+', 'Free', '0', 'Everyone', 'Art & Design;Pretend Play', 'January 15, 2018', '2.0.0', '4.0.3 and up']\n",
      "\n",
      "\n",
      "['U Launcher Lite – FREE Live Cool Themes, Hide Apps', 'ART_AND_DESIGN', '4.7', '87510', '8.7M', '5,000,000+', 'Free', '0', 'Everyone', 'Art & Design', 'August 1, 2018', '1.2.4', '4.0.3 and up']\n",
      "\n",
      "\n",
      "Number of rows: 10842\n",
      "Number of columns: 13\n"
     ]
    }
   ],
   "source": [
    "google_data_set = open_file('googleplaystore.csv')\n",
    "explore_data (google_data_set, 0, 4, True)"
   ]
  },
  {
   "cell_type": "markdown",
   "metadata": {},
   "source": [
    "**Overview of Apple Store Data Set:**\n",
    "\n",
    "By opening our Apple Store data set, we can see that it has a total of 7,197 entries (Not including the header) and 16 columns.\n",
    "\n",
    "We will be primarily focusing on this particular columns:\n",
    "1. 'track_name' - Contains the name of the application.\n",
    "2. 'price' - Tells us the price of the application.\n",
    "3. 'rating_count_tot' - Tells us how many times the application have been rated.\n",
    "4. 'prime_genre' - Tells us how the genre of the application."
   ]
  },
  {
   "cell_type": "code",
   "execution_count": 4,
   "metadata": {
    "scrolled": true
   },
   "outputs": [
    {
     "name": "stdout",
     "output_type": "stream",
     "text": [
      "['id', 'track_name', 'size_bytes', 'currency', 'price', 'rating_count_tot', 'rating_count_ver', 'user_rating', 'user_rating_ver', 'ver', 'cont_rating', 'prime_genre', 'sup_devices.num', 'ipadSc_urls.num', 'lang.num', 'vpp_lic']\n",
      "\n",
      "\n",
      "['284882215', 'Facebook', '389879808', 'USD', '0.0', '2974676', '212', '3.5', '3.5', '95.0', '4+', 'Social Networking', '37', '1', '29', '1']\n",
      "\n",
      "\n",
      "['389801252', 'Instagram', '113954816', 'USD', '0.0', '2161558', '1289', '4.5', '4.0', '10.23', '12+', 'Photo & Video', '37', '0', '29', '1']\n",
      "\n",
      "\n",
      "['529479190', 'Clash of Clans', '116476928', 'USD', '0.0', '2130805', '579', '4.5', '4.5', '9.24.12', '9+', 'Games', '38', '5', '18', '1']\n",
      "\n",
      "\n",
      "Number of rows: 7198\n",
      "Number of columns: 16\n"
     ]
    }
   ],
   "source": [
    "apple_data_set = open_file('AppleStore.csv')\n",
    "explore_data (apple_data_set, 0, 4, True)"
   ]
  },
  {
   "cell_type": "markdown",
   "metadata": {},
   "source": [
    "## Data Cleaning:"
   ]
  },
  {
   "cell_type": "markdown",
   "metadata": {},
   "source": [
    "**Invalid Entry:**"
   ]
  },
  {
   "cell_type": "markdown",
   "metadata": {},
   "source": [
    "By exploring our Google Play Store data set, we can see that on row 10,473 there is an application named 'Life Made WI-Fi Touchscreen Photo Frame', and if we count the columns associated with this application we can see that it only has 12 columns opposed to the regular 13 columns.\n",
    "\n",
    "This may be a mistake on the data entry, so we'll remove it to make sure it doesn't affect the result of our analysis."
   ]
  },
  {
   "cell_type": "code",
   "execution_count": 5,
   "metadata": {},
   "outputs": [
    {
     "name": "stdout",
     "output_type": "stream",
     "text": [
      "['Life Made WI-Fi Touchscreen Photo Frame', '1.9', '19', '3.0M', '1,000+', 'Free', '0', 'Everyone', '', 'February 11, 2018', '1.0.19', '4.0 and up']\n"
     ]
    }
   ],
   "source": [
    "print (google_data_set[10473])"
   ]
  },
  {
   "cell_type": "markdown",
   "metadata": {},
   "source": [
    "The code below removes the invalid row."
   ]
  },
  {
   "cell_type": "code",
   "execution_count": 6,
   "metadata": {},
   "outputs": [],
   "source": [
    "del google_data_set[10473]"
   ]
  },
  {
   "cell_type": "markdown",
   "metadata": {},
   "source": [
    "**Duplicate Entries:**"
   ]
  },
  {
   "cell_type": "markdown",
   "metadata": {},
   "source": [
    "Upon obervation of the Google Play Store data set, we have found that there are numerous instances where there are duplicate entries of specific applications. One instance is the application `Instagram` that appears 4 times in our data set. *(Output of code below shows intances when the app 'Instagram' appeared in our Data Set)*"
   ]
  },
  {
   "cell_type": "code",
   "execution_count": 7,
   "metadata": {
    "scrolled": false
   },
   "outputs": [
    {
     "name": "stdout",
     "output_type": "stream",
     "text": [
      "['Instagram', 'SOCIAL', '4.5', '66577313', 'Varies with device', '1,000,000,000+', 'Free', '0', 'Teen', 'Social', 'July 31, 2018', 'Varies with device', 'Varies with device']\n",
      "\n",
      "\n",
      "['Instagram', 'SOCIAL', '4.5', '66577446', 'Varies with device', '1,000,000,000+', 'Free', '0', 'Teen', 'Social', 'July 31, 2018', 'Varies with device', 'Varies with device']\n",
      "\n",
      "\n",
      "['Instagram', 'SOCIAL', '4.5', '66577313', 'Varies with device', '1,000,000,000+', 'Free', '0', 'Teen', 'Social', 'July 31, 2018', 'Varies with device', 'Varies with device']\n",
      "\n",
      "\n",
      "['Instagram', 'SOCIAL', '4.5', '66509917', 'Varies with device', '1,000,000,000+', 'Free', '0', 'Teen', 'Social', 'July 31, 2018', 'Varies with device', 'Varies with device']\n",
      "\n",
      "\n"
     ]
    }
   ],
   "source": [
    "for app in google_data_set[1:]:\n",
    "    name = app[0]\n",
    "    if name == 'Instagram':\n",
    "        print(app)\n",
    "        print ('\\n')"
   ]
  },
  {
   "cell_type": "markdown",
   "metadata": {},
   "source": [
    "Using the code below, we were able to discern that there is a total of **1181** duplicate entries in the Google Play data set, and a total of **9659** unique entries."
   ]
  },
  {
   "cell_type": "code",
   "execution_count": 8,
   "metadata": {},
   "outputs": [
    {
     "name": "stdout",
     "output_type": "stream",
     "text": [
      "Number of Duplicate Apps: 1181\n",
      "Number of Unique Apps: 9659\n"
     ]
    }
   ],
   "source": [
    "duplicate_apps = []\n",
    "unique_apps = []\n",
    "\n",
    "for app in google_data_set[1:]:\n",
    "    app_name = app[0]\n",
    "    \n",
    "    if app_name in unique_apps:\n",
    "        duplicate_apps.append(app_name)\n",
    "    else:\n",
    "        unique_apps.append(app_name)\n",
    "        \n",
    "print('Number of Duplicate Apps:', len(duplicate_apps))\n",
    "print('Number of Unique Apps:', len(unique_apps))"
   ]
  },
  {
   "cell_type": "markdown",
   "metadata": {},
   "source": [
    "We are not going to remove these duplicates randomly, but instead use the 4th column of our Google Play Store data set which is the 'Reviews' column. This displays the total number of reviews for the particular application to our advantage. We will only use the entry with the most number of reviews and ignore other duplicate entries. Reason being the higher the number of reviews, the more recent the data should be."
   ]
  },
  {
   "cell_type": "markdown",
   "metadata": {},
   "source": [
    "The code below checks for the entry that has the most reviews and stores it in a dictionary called `reviews_max`."
   ]
  },
  {
   "cell_type": "code",
   "execution_count": 9,
   "metadata": {},
   "outputs": [],
   "source": [
    "reviews_max = {}\n",
    "for app in google_data_set[1:]:\n",
    "    name = app[0]\n",
    "    n_reviews = float(app[3])\n",
    "    \n",
    "    if name in reviews_max and reviews_max[name] < n_reviews:\n",
    "        reviews_max[name] = n_reviews\n",
    "        \n",
    "    elif name not in reviews_max:\n",
    "        reviews_max[name] = n_reviews"
   ]
  },
  {
   "cell_type": "markdown",
   "metadata": {},
   "source": [
    "We then use `reviews_max` to identify which entry will be added to our newly cleaned Google Play Store data set `android_clean`."
   ]
  },
  {
   "cell_type": "code",
   "execution_count": 10,
   "metadata": {},
   "outputs": [],
   "source": [
    "android_clean = []\n",
    "already_added = []\n",
    "\n",
    "for app in google_data_set[1:]:\n",
    "    name = app[0]\n",
    "    n_reviews = float(app[3])\n",
    "    \n",
    "    if n_reviews == reviews_max[name] and name not in already_added:\n",
    "        android_clean.append(app)\n",
    "        already_added.append(name)"
   ]
  },
  {
   "cell_type": "markdown",
   "metadata": {},
   "source": [
    "The code below outputs the first 3 rows of our cleaned Google Play Store data set that does not contain any duplicate entries. It has a total of **9659** rows and **13** columns. "
   ]
  },
  {
   "cell_type": "code",
   "execution_count": 11,
   "metadata": {
    "scrolled": false
   },
   "outputs": [
    {
     "name": "stdout",
     "output_type": "stream",
     "text": [
      "['Photo Editor & Candy Camera & Grid & ScrapBook', 'ART_AND_DESIGN', '4.1', '159', '19M', '10,000+', 'Free', '0', 'Everyone', 'Art & Design', 'January 7, 2018', '1.0.0', '4.0.3 and up']\n",
      "\n",
      "\n",
      "['U Launcher Lite – FREE Live Cool Themes, Hide Apps', 'ART_AND_DESIGN', '4.7', '87510', '8.7M', '5,000,000+', 'Free', '0', 'Everyone', 'Art & Design', 'August 1, 2018', '1.2.4', '4.0.3 and up']\n",
      "\n",
      "\n",
      "['Sketch - Draw & Paint', 'ART_AND_DESIGN', '4.5', '215644', '25M', '50,000,000+', 'Free', '0', 'Teen', 'Art & Design', 'June 8, 2018', 'Varies with device', '4.2 and up']\n",
      "\n",
      "\n",
      "Number of rows: 9659\n",
      "Number of columns: 13\n"
     ]
    }
   ],
   "source": [
    "explore_data(android_clean, 0, 3, True)"
   ]
  },
  {
   "cell_type": "markdown",
   "metadata": {},
   "source": [
    "**Removing None English Applications:**"
   ]
  },
  {
   "cell_type": "markdown",
   "metadata": {},
   "source": [
    "In the code below we created a function that detects if the name of the application contains characters that are not commonly used in the English text. And to minimize the impact of data loss when checking these application names, the code only marks an application as non-English if it detect 3 or more characters that are not commonly used in the English Text. This is to prevent English applications such as `Instachat 😜` and `Docs To Go™ Free Office Suite` that have the `😜` and `™` characters respectively, getting marked as non-English applications."
   ]
  },
  {
   "cell_type": "code",
   "execution_count": 12,
   "metadata": {},
   "outputs": [],
   "source": [
    "def non_english_checker (app_name):\n",
    "    non_english_character = 0\n",
    "    for character in app_name:\n",
    "        ord_value = ord(character)\n",
    "        \n",
    "        if ord_value > 127:\n",
    "            non_english_character += 1\n",
    "            \n",
    "            if non_english_character == 3:\n",
    "                return True\n",
    "        \n",
    "    return False"
   ]
  },
  {
   "cell_type": "markdown",
   "metadata": {},
   "source": [
    "By calling our `non_english_checker` function below, we were able to easily identify that the application `Instachat 😜`, and `Instagram` as English applications, while the application `'爱奇艺PPS -《欢乐颂2》电视剧热播'` falls out of bounds our scope."
   ]
  },
  {
   "cell_type": "code",
   "execution_count": 13,
   "metadata": {
    "scrolled": true
   },
   "outputs": [
    {
     "name": "stdout",
     "output_type": "stream",
     "text": [
      "Instagram -  False\n",
      "Instachat 😜 - False\n",
      "爱奇艺PPS -《欢乐颂2》电视剧热播 - True\n"
     ]
    }
   ],
   "source": [
    "print('Instagram - ' , non_english_checker('Instagram'))\n",
    "print('Instachat 😜 -' , non_english_checker('Instachat 😜'))\n",
    "print('爱奇艺PPS -《欢乐颂2》电视剧热播 -' , non_english_checker('爱奇艺PPS -《欢乐颂2》电视剧热播'))"
   ]
  },
  {
   "cell_type": "markdown",
   "metadata": {},
   "source": [
    "The code below uses our `non_english_checker` function in both our Google Play Store data set and Apple Store data set to get only the English applications in their respective store."
   ]
  },
  {
   "cell_type": "code",
   "execution_count": 14,
   "metadata": {},
   "outputs": [],
   "source": [
    "android_english = []\n",
    "ios_english = []\n",
    "\n",
    "for app in android_clean:\n",
    "    app_name = app[0]\n",
    "    \n",
    "    if non_english_checker(app_name) == False:\n",
    "        android_english.append(app)\n",
    "        \n",
    "for app in apple_data_set:\n",
    "    app_name = app[1]\n",
    "    \n",
    "    if non_english_checker(app_name) == False:\n",
    "        ios_english.append(app)"
   ]
  },
  {
   "cell_type": "markdown",
   "metadata": {},
   "source": [
    "The code below displays the first 3 rows of Google Play Store data set that only contains English Applications. It has a total of **9597** applications."
   ]
  },
  {
   "cell_type": "code",
   "execution_count": 15,
   "metadata": {
    "scrolled": true
   },
   "outputs": [
    {
     "name": "stdout",
     "output_type": "stream",
     "text": [
      "['Photo Editor & Candy Camera & Grid & ScrapBook', 'ART_AND_DESIGN', '4.1', '159', '19M', '10,000+', 'Free', '0', 'Everyone', 'Art & Design', 'January 7, 2018', '1.0.0', '4.0.3 and up']\n",
      "\n",
      "\n",
      "['U Launcher Lite – FREE Live Cool Themes, Hide Apps', 'ART_AND_DESIGN', '4.7', '87510', '8.7M', '5,000,000+', 'Free', '0', 'Everyone', 'Art & Design', 'August 1, 2018', '1.2.4', '4.0.3 and up']\n",
      "\n",
      "\n",
      "['Sketch - Draw & Paint', 'ART_AND_DESIGN', '4.5', '215644', '25M', '50,000,000+', 'Free', '0', 'Teen', 'Art & Design', 'June 8, 2018', 'Varies with device', '4.2 and up']\n",
      "\n",
      "\n",
      "Number of rows: 9597\n",
      "Number of columns: 13\n"
     ]
    }
   ],
   "source": [
    "explore_data(android_english, 0, 3, True)"
   ]
  },
  {
   "cell_type": "markdown",
   "metadata": {},
   "source": [
    "The code below displays the first 3 rows of Apple Store data set that only contains English Applications. It has a total of **6156** applications."
   ]
  },
  {
   "cell_type": "code",
   "execution_count": 16,
   "metadata": {
    "scrolled": true
   },
   "outputs": [
    {
     "name": "stdout",
     "output_type": "stream",
     "text": [
      "['284882215', 'Facebook', '389879808', 'USD', '0.0', '2974676', '212', '3.5', '3.5', '95.0', '4+', 'Social Networking', '37', '1', '29', '1']\n",
      "\n",
      "\n",
      "['389801252', 'Instagram', '113954816', 'USD', '0.0', '2161558', '1289', '4.5', '4.0', '10.23', '12+', 'Photo & Video', '37', '0', '29', '1']\n",
      "\n",
      "\n",
      "['529479190', 'Clash of Clans', '116476928', 'USD', '0.0', '2130805', '579', '4.5', '4.5', '9.24.12', '9+', 'Games', '38', '5', '18', '1']\n",
      "\n",
      "\n",
      "Number of rows: 6156\n",
      "Number of columns: 16\n"
     ]
    }
   ],
   "source": [
    "explore_data(ios_english, 1, 4, True)"
   ]
  },
  {
   "cell_type": "markdown",
   "metadata": {},
   "source": [
    "**Isolating Free Applications:**"
   ]
  },
  {
   "cell_type": "markdown",
   "metadata": {},
   "source": [
    "Using the code below, we isolated the free apps from our data sets and put them in our variables `google_free_apps` and `ios_free_apps`. We do this by using the 8th column of our Google Play Store data set which is named 'Price', and see if it's value is equal to '0'. We do the same with the 5th column of our Apple Store data set which is named 'price' and check for the value of '0.0'.\n",
    "\n",
    "After running the code we found out that Google Play Store has **8848** free applications, and Apple Store has **3203**."
   ]
  },
  {
   "cell_type": "code",
   "execution_count": 17,
   "metadata": {
    "scrolled": true
   },
   "outputs": [
    {
     "name": "stdout",
     "output_type": "stream",
     "text": [
      "['Photo Editor & Candy Camera & Grid & ScrapBook', 'ART_AND_DESIGN', '4.1', '159', '19M', '10,000+', 'Free', '0', 'Everyone', 'Art & Design', 'January 7, 2018', '1.0.0', '4.0.3 and up']\n",
      "\n",
      "\n",
      "['U Launcher Lite – FREE Live Cool Themes, Hide Apps', 'ART_AND_DESIGN', '4.7', '87510', '8.7M', '5,000,000+', 'Free', '0', 'Everyone', 'Art & Design', 'August 1, 2018', '1.2.4', '4.0.3 and up']\n",
      "\n",
      "\n",
      "['Sketch - Draw & Paint', 'ART_AND_DESIGN', '4.5', '215644', '25M', '50,000,000+', 'Free', '0', 'Teen', 'Art & Design', 'June 8, 2018', 'Varies with device', '4.2 and up']\n",
      "\n",
      "\n",
      "Number of rows: 8848\n",
      "Number of columns: 13\n",
      "\n",
      "=============================================\n",
      "\n",
      "['284882215', 'Facebook', '389879808', 'USD', '0.0', '2974676', '212', '3.5', '3.5', '95.0', '4+', 'Social Networking', '37', '1', '29', '1']\n",
      "\n",
      "\n",
      "['389801252', 'Instagram', '113954816', 'USD', '0.0', '2161558', '1289', '4.5', '4.0', '10.23', '12+', 'Photo & Video', '37', '0', '29', '1']\n",
      "\n",
      "\n",
      "['529479190', 'Clash of Clans', '116476928', 'USD', '0.0', '2130805', '579', '4.5', '4.5', '9.24.12', '9+', 'Games', '38', '5', '18', '1']\n",
      "\n",
      "\n",
      "Number of rows: 3203\n",
      "Number of columns: 16\n"
     ]
    }
   ],
   "source": [
    "google_free_apps = []\n",
    "ios_free_apps = []\n",
    "\n",
    "for app in android_english:\n",
    "    app_price = app[7]\n",
    "    \n",
    "    if app_price == '0':\n",
    "        google_free_apps.append(app)\n",
    "        \n",
    "for app in ios_english:\n",
    "    app_price = app[4]\n",
    "    \n",
    "    if app_price == '0.0':\n",
    "        ios_free_apps.append(app)\n",
    "        \n",
    "explore_data(google_free_apps, 0, 3, True)\n",
    "print('\\n=============================================\\n')\n",
    "explore_data(ios_free_apps, 0, 3, True)"
   ]
  },
  {
   "cell_type": "markdown",
   "metadata": {},
   "source": [
    "## Most Common Apps by Genre:"
   ]
  },
  {
   "cell_type": "markdown",
   "metadata": {},
   "source": [
    "As we mentioned in the introduction, our aim is to determine the kinds of apps that are likely to attract more users because our revenue is highly influenced by the number of people using our apps.\n",
    "\n",
    "To minimize risks and overhead, our validation strategy for an app idea is comprised of three steps:\n",
    "\n",
    "1. Build a minimal Android version of the app, and add it to Google Play.\n",
    "2. If the app has a good response from users, we then develop it further.\n",
    "3. If the app is profitable after six months, we also build an iOS version of the app and add it to the App Store.\n",
    "\n",
    "Because our end goal is to add the app on both the App Store and Google Play, we need to find app profiles that are successful on both markets. For instance, a profile that might work well for both markets might be a productivity app that makes use of gamification.\n",
    "\n",
    "Let's begin the analysis by getting a sense of the most common genres for each market. For this, we'll build a frequency table for the 'prime_genre' column of the App Store data set, and the 'Genres' and 'Category' columns of the Google Play data set."
   ]
  },
  {
   "cell_type": "markdown",
   "metadata": {},
   "source": [
    "We created 2 functions in the code below. The first function which is `freq_table` generates our frequency table and tells us how many times a particular genre appears in our data set. Our second function `display_table` sorts our frequency tables in descending order."
   ]
  },
  {
   "cell_type": "code",
   "execution_count": 18,
   "metadata": {},
   "outputs": [],
   "source": [
    "def freq_table (dataset, index):\n",
    "    tally_dictionary = {}\n",
    "    \n",
    "    for app in dataset:\n",
    "        if app[index] in tally_dictionary:\n",
    "            tally_dictionary[app[index]] += 1\n",
    "        else:\n",
    "            tally_dictionary[app[index]] = 1\n",
    "    \n",
    "    percentage_dictionary = {}\n",
    "    \n",
    "    for genre in tally_dictionary:\n",
    "        genre_percentage = (tally_dictionary[genre] / len(dataset)) * 100\n",
    "        percentage_dictionary[genre] = genre_percentage\n",
    "        \n",
    "    return percentage_dictionary\n",
    "\n",
    "\n",
    "def display_table(dataset, index):\n",
    "    table = freq_table(dataset, index)\n",
    "    table_display = []\n",
    "    for key in table:\n",
    "        key_val_as_tuple = (table[key], key)\n",
    "        table_display.append(key_val_as_tuple)\n",
    "\n",
    "    table_sorted = sorted(table_display, reverse = True)\n",
    "    for entry in table_sorted:\n",
    "        print(entry[1], ':', entry[0])"
   ]
  },
  {
   "cell_type": "markdown",
   "metadata": {},
   "source": [
    "We then use these functions on our App Store data set."
   ]
  },
  {
   "cell_type": "code",
   "execution_count": 19,
   "metadata": {
    "scrolled": true
   },
   "outputs": [
    {
     "name": "stdout",
     "output_type": "stream",
     "text": [
      "Games : 58.25788323446769\n",
      "Entertainment : 7.836403371838902\n",
      "Photo & Video : 4.995316890415236\n",
      "Education : 3.6840462066812365\n",
      "Social Networking : 3.3093974399000934\n",
      "Shopping : 2.5913206369029034\n",
      "Utilities : 2.466437714642523\n",
      "Sports : 2.1542304089915705\n",
      "Music : 2.0605682172962845\n",
      "Health & Fitness : 2.0293474867311896\n",
      "Productivity : 1.7483609116453322\n",
      "Lifestyle : 1.5610365282547611\n",
      "News : 1.3424914142990947\n",
      "Travel : 1.248829222603809\n",
      "Finance : 1.0927255697783327\n",
      "Weather : 0.8741804558226661\n",
      "Food & Drink : 0.8117389946924758\n",
      "Reference : 0.5307524196066188\n",
      "Business : 0.5307524196066188\n",
      "Book : 0.3746487667811427\n",
      "Navigation : 0.18732438339057134\n",
      "Medical : 0.18732438339057134\n",
      "Catalogs : 0.1248829222603809\n"
     ]
    }
   ],
   "source": [
    "display_table (ios_free_apps, 11)"
   ]
  },
  {
   "cell_type": "markdown",
   "metadata": {},
   "source": [
    "We can see that in our Apple Store frequency table majority of the genre are under 'Games' which makes up 58% of total applications. It is followed by 'Entertainment' which makes up 7%, 'Photo & Video' at 4% and 'Education at 3%'. By observing the top number of applications we can discern that the majority of the applications in the Apple Store data set is focused on entertainment opposed to practicality."
   ]
  },
  {
   "cell_type": "code",
   "execution_count": 20,
   "metadata": {
    "scrolled": true
   },
   "outputs": [
    {
     "name": "stdout",
     "output_type": "stream",
     "text": [
      "FAMILY : 18.942133815551536\n",
      "GAME : 9.697106690777577\n",
      "TOOLS : 8.453887884267631\n",
      "BUSINESS : 4.599909584086799\n",
      "PRODUCTIVITY : 3.899186256781193\n",
      "LIFESTYLE : 3.887884267631103\n",
      "FINANCE : 3.7070524412296564\n",
      "MEDICAL : 3.5375226039783\n",
      "SPORTS : 3.390596745027125\n",
      "PERSONALIZATION : 3.322784810126582\n",
      "COMMUNICATION : 3.2323688969258586\n",
      "HEALTH_AND_FITNESS : 3.0854430379746836\n",
      "PHOTOGRAPHY : 2.949819168173599\n",
      "NEWS_AND_MAGAZINES : 2.802893309222423\n",
      "SOCIAL : 2.667269439421338\n",
      "TRAVEL_AND_LOCAL : 2.3395117540687163\n",
      "SHOPPING : 2.2490958408679926\n",
      "BOOKS_AND_REFERENCE : 2.1360759493670884\n",
      "DATING : 1.8648282097649187\n",
      "VIDEO_PLAYERS : 1.7970162748643763\n",
      "MAPS_AND_NAVIGATION : 1.3901446654611211\n",
      "FOOD_AND_DRINK : 1.2432188065099457\n",
      "EDUCATION : 1.164104882459313\n",
      "ENTERTAINMENT : 0.9606690777576853\n",
      "LIBRARIES_AND_DEMO : 0.9380650994575045\n",
      "AUTO_AND_VEHICLES : 0.9267631103074141\n",
      "HOUSE_AND_HOME : 0.8024412296564195\n",
      "WEATHER : 0.7911392405063291\n",
      "EVENTS : 0.7120253164556962\n",
      "PARENTING : 0.6555153707052441\n",
      "ART_AND_DESIGN : 0.6442133815551537\n",
      "COMICS : 0.6103074141048824\n",
      "BEAUTY : 0.599005424954792\n"
     ]
    }
   ],
   "source": [
    "display_table (google_free_apps, 1) #Category"
   ]
  },
  {
   "cell_type": "markdown",
   "metadata": {},
   "source": [
    "We then ran our functions on our Google Play Store data set, creating a frequency table based on `Category`. At first glance we can already see the differennce of our current table opposed to the Apple Store frequency table. The 'FAMILY' category makes up 18% of the of the top applications, followed by the 'GAME' category which makes up 9%, 'TOOLS' by 8T and 'BUSINESS' by 4%. \n",
    "\n",
    "There is a huge emphasis on the number of practical applications in the Google Play Store compared to the Apple Store."
   ]
  },
  {
   "cell_type": "code",
   "execution_count": 21,
   "metadata": {},
   "outputs": [
    {
     "name": "stdout",
     "output_type": "stream",
     "text": [
      "Tools : 8.44258589511754\n",
      "Entertainment : 6.080470162748644\n",
      "Education : 5.357142857142857\n",
      "Business : 4.599909584086799\n",
      "Productivity : 3.899186256781193\n",
      "Lifestyle : 3.8765822784810124\n",
      "Finance : 3.7070524412296564\n",
      "Medical : 3.5375226039783\n",
      "Sports : 3.4584086799276674\n",
      "Personalization : 3.322784810126582\n",
      "Communication : 3.2323688969258586\n",
      "Action : 3.096745027124774\n",
      "Health & Fitness : 3.0854430379746836\n",
      "Photography : 2.949819168173599\n",
      "News & Magazines : 2.802893309222423\n",
      "Social : 2.667269439421338\n",
      "Travel & Local : 2.328209764918626\n",
      "Shopping : 2.2490958408679926\n",
      "Books & Reference : 2.1360759493670884\n",
      "Simulation : 2.0456600361663653\n",
      "Dating : 1.8648282097649187\n",
      "Arcade : 1.842224231464738\n",
      "Video Players & Editors : 1.7744122965641953\n",
      "Casual : 1.763110307414105\n",
      "Maps & Navigation : 1.3901446654611211\n",
      "Food & Drink : 1.2432188065099457\n",
      "Puzzle : 1.1301989150090417\n",
      "Racing : 0.9945750452079566\n",
      "Role Playing : 0.9380650994575045\n",
      "Libraries & Demo : 0.9380650994575045\n",
      "Auto & Vehicles : 0.9267631103074141\n",
      "Strategy : 0.9154611211573236\n",
      "House & Home : 0.8024412296564195\n",
      "Weather : 0.7911392405063291\n",
      "Events : 0.7120253164556962\n",
      "Adventure : 0.6668173598553345\n",
      "Comics : 0.599005424954792\n",
      "Beauty : 0.599005424954792\n",
      "Art & Design : 0.599005424954792\n",
      "Parenting : 0.4972875226039783\n",
      "Card : 0.45207956600361665\n",
      "Trivia : 0.4181735985533454\n",
      "Casino : 0.4181735985533454\n",
      "Educational;Education : 0.39556962025316456\n",
      "Board : 0.3842676311030741\n",
      "Educational : 0.3729656419529837\n",
      "Education;Education : 0.33905967450271246\n",
      "Word : 0.25994575045207957\n",
      "Casual;Pretend Play : 0.23734177215189875\n",
      "Music : 0.2034358047016275\n",
      "Racing;Action & Adventure : 0.16952983725135623\n",
      "Puzzle;Brain Games : 0.16952983725135623\n",
      "Entertainment;Music & Video : 0.16952983725135623\n",
      "Casual;Brain Games : 0.13562386980108498\n",
      "Casual;Action & Adventure : 0.13562386980108498\n",
      "Arcade;Action & Adventure : 0.12432188065099457\n",
      "Action;Action & Adventure : 0.10171790235081375\n",
      "Educational;Pretend Play : 0.09041591320072333\n",
      "Simulation;Action & Adventure : 0.07911392405063292\n",
      "Parenting;Education : 0.07911392405063292\n",
      "Entertainment;Brain Games : 0.07911392405063292\n",
      "Board;Brain Games : 0.07911392405063292\n",
      "Parenting;Music & Video : 0.06781193490054249\n",
      "Educational;Brain Games : 0.06781193490054249\n",
      "Casual;Creativity : 0.06781193490054249\n",
      "Art & Design;Creativity : 0.06781193490054249\n",
      "Education;Pretend Play : 0.05650994575045208\n",
      "Role Playing;Pretend Play : 0.045207956600361664\n",
      "Education;Creativity : 0.045207956600361664\n",
      "Role Playing;Action & Adventure : 0.033905967450271246\n",
      "Puzzle;Action & Adventure : 0.033905967450271246\n",
      "Entertainment;Creativity : 0.033905967450271246\n",
      "Entertainment;Action & Adventure : 0.033905967450271246\n",
      "Educational;Creativity : 0.033905967450271246\n",
      "Educational;Action & Adventure : 0.033905967450271246\n",
      "Education;Music & Video : 0.033905967450271246\n",
      "Education;Brain Games : 0.033905967450271246\n",
      "Education;Action & Adventure : 0.033905967450271246\n",
      "Adventure;Action & Adventure : 0.033905967450271246\n",
      "Video Players & Editors;Music & Video : 0.022603978300180832\n",
      "Sports;Action & Adventure : 0.022603978300180832\n",
      "Simulation;Pretend Play : 0.022603978300180832\n",
      "Puzzle;Creativity : 0.022603978300180832\n",
      "Music;Music & Video : 0.022603978300180832\n",
      "Entertainment;Pretend Play : 0.022603978300180832\n",
      "Casual;Education : 0.022603978300180832\n",
      "Board;Action & Adventure : 0.022603978300180832\n",
      "Video Players & Editors;Creativity : 0.011301989150090416\n",
      "Trivia;Education : 0.011301989150090416\n",
      "Travel & Local;Action & Adventure : 0.011301989150090416\n",
      "Tools;Education : 0.011301989150090416\n",
      "Strategy;Education : 0.011301989150090416\n",
      "Strategy;Creativity : 0.011301989150090416\n",
      "Strategy;Action & Adventure : 0.011301989150090416\n",
      "Simulation;Education : 0.011301989150090416\n",
      "Role Playing;Brain Games : 0.011301989150090416\n",
      "Racing;Pretend Play : 0.011301989150090416\n",
      "Puzzle;Education : 0.011301989150090416\n",
      "Parenting;Brain Games : 0.011301989150090416\n",
      "Music & Audio;Music & Video : 0.011301989150090416\n",
      "Lifestyle;Pretend Play : 0.011301989150090416\n",
      "Lifestyle;Education : 0.011301989150090416\n",
      "Health & Fitness;Education : 0.011301989150090416\n",
      "Health & Fitness;Action & Adventure : 0.011301989150090416\n",
      "Entertainment;Education : 0.011301989150090416\n",
      "Communication;Creativity : 0.011301989150090416\n",
      "Comics;Creativity : 0.011301989150090416\n",
      "Casual;Music & Video : 0.011301989150090416\n",
      "Card;Action & Adventure : 0.011301989150090416\n",
      "Books & Reference;Education : 0.011301989150090416\n",
      "Art & Design;Pretend Play : 0.011301989150090416\n",
      "Art & Design;Action & Adventure : 0.011301989150090416\n",
      "Arcade;Pretend Play : 0.011301989150090416\n",
      "Adventure;Education : 0.011301989150090416\n"
     ]
    }
   ],
   "source": [
    "display_table (google_free_apps, -4) #Genres"
   ]
  },
  {
   "cell_type": "markdown",
   "metadata": {},
   "source": [
    "The difference between the Genres and the Category columns is not crystal clear, but one thing we can notice is that the Genres column is much more granular (it has more categories). We're only looking for the bigger picture at the moment, so we'll only work with the Category column moving forward.\n",
    "\n",
    "Up to this point, we found that the App Store is dominated by apps designed for fun, while Google Play shows a more balanced landscape of both practical and for-fun apps. Now we'd like to get an idea about the kind of apps that have most users."
   ]
  },
  {
   "cell_type": "markdown",
   "metadata": {},
   "source": [
    "## Most Popular Apps by Genre on the App Store"
   ]
  },
  {
   "cell_type": "markdown",
   "metadata": {},
   "source": [
    "To get an overview on which applications are popular we will use the column 'Installs' on our Google Play Store data set, which tell us the number of times tha applications has been installed. Unfortunately this column does not exist in our Apple Store data set, so we will use 'rating_count_tot' instead as an alternative."
   ]
  },
  {
   "cell_type": "code",
   "execution_count": 22,
   "metadata": {
    "scrolled": true
   },
   "outputs": [
    {
     "name": "stdout",
     "output_type": "stream",
     "text": [
      "Social Networking - 71548.34905660378\n",
      "Photo & Video - 28441.54375\n",
      "Games - 22886.36709539121\n",
      "Music - 57326.530303030304\n",
      "Reference - 79350.4705882353\n",
      "Health & Fitness - 23298.015384615384\n",
      "Weather - 52279.892857142855\n",
      "Utilities - 19156.493670886077\n",
      "Travel - 28243.8\n",
      "Shopping - 27230.734939759037\n",
      "News - 21248.023255813954\n",
      "Navigation - 86090.33333333333\n",
      "Lifestyle - 16815.48\n",
      "Entertainment - 14195.358565737051\n",
      "Food & Drink - 33333.92307692308\n",
      "Sports - 23008.898550724636\n",
      "Book - 46384.916666666664\n",
      "Finance - 32367.02857142857\n",
      "Education - 7003.983050847458\n",
      "Productivity - 21028.410714285714\n",
      "Business - 7491.117647058823\n",
      "Catalogs - 4004.0\n",
      "Medical - 612.0\n"
     ]
    }
   ],
   "source": [
    "ios_freq_table = freq_table(ios_free_apps, 11)\n",
    "\n",
    "for genre in ios_freq_table:\n",
    "    total = 0\n",
    "    len_genre = 0\n",
    "    \n",
    "    for row in ios_free_apps:\n",
    "        genre_app = row[11]\n",
    "        \n",
    "        if genre_app == genre:\n",
    "            no_of_rating = float(row[5])\n",
    "            total += no_of_rating\n",
    "            len_genre += 1\n",
    "    \n",
    "    average_no_rating = total / len_genre\n",
    "    print (genre , '-', average_no_rating)"
   ]
  },
  {
   "cell_type": "markdown",
   "metadata": {},
   "source": [
    "Based on the output of our code, we can see that the 'Navigation' genre has an average of 86,090 reviews per application. We then look back to our 'Common Apps by Genre' table where we will be able to see that 'Navigation' apps only occupies 0.18% of the total applications in the Apple Store. This is great since now we know that an application in the 'Navigation' genre has the most number of users and a non saturated number of competitors.\n",
    "\n",
    "But first let us find out who these competitors are."
   ]
  },
  {
   "cell_type": "code",
   "execution_count": 23,
   "metadata": {
    "scrolled": true
   },
   "outputs": [
    {
     "name": "stdout",
     "output_type": "stream",
     "text": [
      "Waze - GPS Navigation, Maps & Real-time Traffic - 345046\n",
      "Google Maps - Navigation & Transit - 154911\n",
      "Geocaching® - 12811\n",
      "CoPilot GPS – Car Navigation & Offline Maps - 3582\n",
      "ImmobilienScout24: Real Estate Search in Germany - 187\n",
      "Railway Route Search - 5\n"
     ]
    }
   ],
   "source": [
    "for app in ios_free_apps:\n",
    "    if app[-5] == 'Navigation':\n",
    "        print (app[1] , '-', app[5])"
   ]
  },
  {
   "cell_type": "markdown",
   "metadata": {},
   "source": [
    "Based on the output we see, although the number of competitors in the 'Navigation' genre is not that great, the disparity in the number of users of each application is great. The number of users in 'Waze' and 'Google Maps' make up more than the majority of the userbase.\n",
    "\n",
    "Despite facing off 2 giant competitors, applications like 'Geocaching®' was still able to create a substantial following. This gives us the idea that if we are able to create an application in the 'Navigation' genre that has a particular niche, our application will thrive not as a direct competitor to either 'Waze' or 'Google Maps', but as complimentary to them."
   ]
  },
  {
   "cell_type": "markdown",
   "metadata": {},
   "source": [
    "## Most Popular Apps by Genre on Google Play"
   ]
  },
  {
   "cell_type": "markdown",
   "metadata": {},
   "source": [
    "By taking a look at our Google Play Store data set, and paying attention to the 'Installs' column. We can see that the data we have doesn't give us the precise number of installs an application have, but an estimate of it in the form of figures like '10,000+' and '1,000+'. \n",
    "\n",
    "We're going to leave the numbers as they are, which means that we'll consider that an app with 100,000 installs has 100,000 installs, and an app with 1,000,000 installs has 1,000,000 installs, and so on."
   ]
  },
  {
   "cell_type": "code",
   "execution_count": 24,
   "metadata": {
    "scrolled": true
   },
   "outputs": [
    {
     "name": "stdout",
     "output_type": "stream",
     "text": [
      "1,000,000+ : 15.75497287522604\n",
      "100,000+ : 11.539330922242314\n",
      "10,000,000+ : 10.567359855334539\n",
      "10,000+ : 10.194394213381555\n",
      "1,000+ : 8.39737793851718\n",
      "100+ : 6.928119349005425\n",
      "5,000,000+ : 6.826401446654612\n",
      "500,000+ : 5.560578661844485\n",
      "50,000+ : 4.769439421338156\n",
      "5,000+ : 4.486889692585895\n",
      "10+ : 3.5375226039783\n",
      "500+ : 3.2436708860759493\n",
      "50,000,000+ : 2.2830018083182644\n",
      "100,000,000+ : 2.1360759493670884\n",
      "50+ : 1.9213381555153706\n",
      "5+ : 0.7911392405063291\n",
      "1+ : 0.5085895117540687\n",
      "500,000,000+ : 0.27124773960216997\n",
      "1,000,000,000+ : 0.22603978300180833\n",
      "0+ : 0.045207956600361664\n",
      "0 : 0.011301989150090416\n"
     ]
    }
   ],
   "source": [
    "display_table(google_free_apps, 5)"
   ]
  },
  {
   "cell_type": "code",
   "execution_count": 25,
   "metadata": {
    "scrolled": true
   },
   "outputs": [
    {
     "name": "stdout",
     "output_type": "stream",
     "text": [
      "ART_AND_DESIGN - 1986335.0877192982\n",
      "AUTO_AND_VEHICLES - 647317.8170731707\n",
      "BEAUTY - 513151.88679245283\n",
      "BOOKS_AND_REFERENCE - 8814199.78835979\n",
      "BUSINESS - 1712290.1474201474\n",
      "COMICS - 832613.8888888889\n",
      "COMMUNICATION - 38590581.08741259\n",
      "DATING - 854028.8303030303\n",
      "EDUCATION - 1833495.145631068\n",
      "ENTERTAINMENT - 11640705.88235294\n",
      "EVENTS - 253542.22222222222\n",
      "FINANCE - 1387692.475609756\n",
      "FOOD_AND_DRINK - 1924897.7363636363\n",
      "HEALTH_AND_FITNESS - 4188821.9853479853\n",
      "HOUSE_AND_HOME - 1360598.042253521\n",
      "LIBRARIES_AND_DEMO - 638503.734939759\n",
      "LIFESTYLE - 1446158.2238372094\n",
      "GAME - 15544014.51048951\n",
      "FAMILY - 3695641.8198090694\n",
      "MEDICAL - 120550.61980830671\n",
      "SOCIAL - 23253652.127118643\n",
      "SHOPPING - 7036877.311557789\n",
      "PHOTOGRAPHY - 17840110.40229885\n",
      "SPORTS - 3650602.276666667\n",
      "TRAVEL_AND_LOCAL - 13984077.710144928\n",
      "TOOLS - 10830251.970588235\n",
      "PERSONALIZATION - 5201482.6122448975\n",
      "PRODUCTIVITY - 16787331.344927534\n",
      "PARENTING - 542603.6206896552\n",
      "WEATHER - 5145550.285714285\n",
      "VIDEO_PLAYERS - 24727872.452830188\n",
      "NEWS_AND_MAGAZINES - 9549178.467741935\n",
      "MAPS_AND_NAVIGATION - 4049274.6341463416\n"
     ]
    }
   ],
   "source": [
    "android_freq_table = freq_table(google_free_apps, 1)\n",
    "\n",
    "for category in android_freq_table:\n",
    "    total = 0\n",
    "    len_category = 0\n",
    "    \n",
    "    for app in google_free_apps:\n",
    "        category_app = app[1]\n",
    "        \n",
    "        if category_app == category:\n",
    "            no_of_installs = app[5]\n",
    "            no_of_installs = no_of_installs.replace('+' , '')\n",
    "            no_of_installs = no_of_installs.replace(',' , '')\n",
    "            total += float(no_of_installs)\n",
    "            len_category += 1\n",
    "            \n",
    "    average_no_installs = total / len_category\n",
    "    print (category , '-' , average_no_installs)"
   ]
  },
  {
   "cell_type": "markdown",
   "metadata": {},
   "source": [
    "Based on the output of our code, the category 'MAPS_AND_NAVIGATION' only has a modest amount of '4,049,274' average installs compared to other categories like 'GAME' that averages '15,544,014' number of installs. This will lead us the impression that applications under the 'MAPS_AND_NAVIGATION' has less user base than those in other categories, but in reality this might not be the case.\n",
    "\n",
    "It many instances it is normal to see a mobile device with many applications in the 'GAME' category but only one or two in the 'MAPS_AND_NAVIGATIONS' category. This is because applications that are focused on entertainment in general has a greater tendency where the user becomes 'bored'. \n",
    "\n",
    "This is rarely the case with applications under the 'MAPS_AND_NAVIGATIONS' category, because what user seek in this type of application is instead practicality. Let us now look at the number of install of other applications in this category."
   ]
  },
  {
   "cell_type": "code",
   "execution_count": 26,
   "metadata": {
    "scrolled": true
   },
   "outputs": [
    {
     "name": "stdout",
     "output_type": "stream",
     "text": [
      "Waze - GPS, Maps, Traffic Alerts & Live Navigation - 100,000,000+\n",
      "T map (te map, T map, navigation) - 5,000,000+\n",
      "MapQuest: Directions, Maps, GPS & Navigation - 10,000,000+\n",
      "Yahoo! transit guide free timetable, operation information, transfer search - 10,000,000+\n",
      "Transit: Real-Time Transit App - 5,000,000+\n",
      "Mapy.cz - Cycling & Hiking offline maps - 1,000,000+\n",
      "Uber - 100,000,000+\n",
      "GPS Navigation & Offline Maps Sygic - 50,000,000+\n",
      "Map and Router Badge - 500,000+\n",
      "Yandex.Transport - 10,000,000+\n",
      "Air Traffic - 1,000,000+\n",
      "Speed Cameras Radar - 1,000,000+\n",
      "Atlan3D Navigation: Korea navigator - 1,000,000+\n",
      "Compass - 10,000,000+\n",
      "Mappy - Plan, route comparison, GPS - 1,000,000+\n",
      "Gps Route Finder - 100,000+\n",
      "My Location: GPS Maps, Share & Save Places - 5,000,000+\n",
      "Yanosik: \"antyradar\", traffic jams, navigation, camera - 5,000,000+\n",
      "NAVITIME - Map & Transfer Navi - 5,000,000+\n",
      "Sygic Car Navigation - 5,000,000+\n",
      "Czech Public Transport IDOS - 1,000,000+\n",
      "Karta GPS - Offline Navigation - 1,000,000+\n",
      "Circle ratio - 1,000,000+\n",
      "Soviet Military Maps Free - 1,000,000+\n",
      "Truck Car Navi by Navitime Large size car, traffic jam, traffic closure, live camera, typhoon / precipitation map - 100,000+\n",
      "Sentin Information Map - 100,000+\n",
      "Snapp - 1,000,000+\n",
      "GPS Speedometer and Odometer - 1,000,000+\n",
      "GPS Traffic Speedcam Route Planner by ViaMichelin - 5,000,000+\n",
      "Trucker Path – Truck Stops & Weigh Stations - 1,000,000+\n",
      "Map Coordinates - 1,000,000+\n",
      "Grab Driver - 5,000,000+\n",
      "SBB Mobile - 1,000,000+\n",
      "GPS Speedometer, Distance Meter - 1,000,000+\n",
      "Blitzer.de - 5,000,000+\n",
      "GPS Speedometer - Trip Meter - Altimeter - 1,000,000+\n",
      "Radarbot Free: Speed Camera Detector & Speedometer - 5,000,000+\n",
      "FindShip - 1,000,000+\n",
      "ÖBB Scotty - 1,000,000+\n",
      "Subway Terminator: Smarter Subway - 10,000,000+\n",
      "Alopec - Online Shipping System - 100,000+\n",
      "Yandex.Trains - 5,000,000+\n",
      "NAVITIME Bus Transit JAPAN - 1,000,000+\n",
      "hum app - 1,000,000+\n",
      "Moovit: Bus Time & Train Time Live Info - 10,000,000+\n",
      "Dynavix - Navigation, Maps, Traffic data & Cameras - 50,000+\n",
      "National Rail Enquiries - 1,000,000+\n",
      "ixigo Cabs-Compare & Book Taxi - 1,000,000+\n",
      "Maps & GPS Navigation — OsmAnd - 5,000,000+\n",
      "Plan B - 5,000+\n",
      "A & B Taxi - 1,000+\n",
      "My G: - 10,000+\n",
      "Q-Ticketing - 10,000+\n",
      "Big Q Car Service - 5,000+\n",
      "AT&T DriveMode - 10,000,000+\n",
      "MBTA GPS - Track the T - 5,000+\n",
      "Vienna U-Bahn - 10,000+\n",
      "Berlin Subway – BVG U-Bahn & S-Bahn map and routes - 100,000+\n",
      "Robin - AI Voice Assistant - 1,000,000+\n",
      "AJ Reminders - 10+\n",
      "GPS.AZ - 1,000+\n",
      "British Columbia Transit Info - 100+\n",
      "Tour BD (Bahir Dar Map) - 100+\n",
      "Free GPS Navigation - 50,000,000+\n",
      "Cordova BG Geolocation - 1,000+\n",
      "BL Driver - 10,000+\n",
      "BL Taxi - 1,000+\n",
      "Táxi Nacional BR - 5,000+\n",
      "BS MAPS - 50+\n",
      "Strætó.is - 100,000+\n",
      "BT Mobile - 1,000+\n",
      "BU Bus Tracker - 10,000+\n",
      "BV Taxi - Driver - 10+\n",
      "BV Taxi Sudan - 10+\n",
      "TomTom GPS Navigation Traffic - 10,000,000+\n",
      "BW Taxi - 5,000+\n",
      "Südtirol2Go - 50,000+\n",
      "Truck Chat & CB for Truckers - 10,000+\n",
      "CD COMET - 100+\n",
      "Co-op Taxi - 10,000+\n",
      "Comboios de Portugal - 100,000+\n",
      "Cestovné poriadky CP - 100,000+\n",
      "Traffic Info and Traffic Alert - 100,000+\n",
      "CY:ME - real time gps tracker - 1,000+\n",
      "Cyprus Bus Companion - 10,000+\n",
      "MYTO CZ - 5,000+\n",
      "DB Navigator - 10,000,000+\n",
      "DB Streckenagent - 500,000+\n",
      "DB Transport - 10,000+\n",
      "DB Busradar NRW - 10,000+\n",
      "Hamburg Transit - Offline HVV DB times and plans - 1,000+\n",
      "DC Rider - 50,000+\n",
      "DC Metro - 10,000+\n",
      "Speed Camera Radar - 5,000,000+\n",
      "DF 司機 - 500+\n",
      "Red Transporte DF - 500,000+\n",
      "Citymapper - Transit Navigation - 5,000,000+\n",
      "Transport DK - 10,000+\n",
      "Convert Coordinates DM to DMS - 5,000+\n",
      "DM TrackMan - 100+\n",
      "Discovery Insure - 100,000+\n",
      "DS Speedometer & Odometer - 1,000,000+\n",
      "DV Car Service - 100+\n",
      "Maps, GPS Navigation & Directions, Street View - 10,000,000+\n",
      "TrainPal EU- Book German Train Tickets - 100+\n",
      "Rail Planner Eurail/Interrail - 1,000,000+\n",
      "ChargeHub - Find EV & Tesla Charging Stations - 50,000+\n",
      "PlugShare - 100,000+\n",
      "NEXTCHARGE - Charging Stations - 50,000+\n",
      "EV Connect - 1,000+\n",
      "EV Stations Hawaii - 1,000+\n",
      "JuiceNet - Smart EV Charging - 5,000+\n",
      "Zap-Map: EV charging points UK - 10,000+\n",
      "EV Charging - 1,000+\n",
      "Electric Car Charging Points: Ev charger Stations - 100+\n",
      "ELMO EV Charging - 1,000+\n",
      "Power Plug EV charger - 1,000+\n",
      "FC Parking - 500+\n",
      "Gainesville Bus Tracker - 10,000+\n",
      "Posta App - 1,000+\n",
      "FP Legacy - 1,000+\n",
      "Hondata Mobile - 10,000+\n",
      "payermonstationnement.fr - 5,000+\n"
     ]
    }
   ],
   "source": [
    "for app in google_free_apps:\n",
    "    if app[1] == 'MAPS_AND_NAVIGATION':\n",
    "        print (app[0] , '-' , app[5])"
   ]
  },
  {
   "cell_type": "markdown",
   "metadata": {},
   "source": [
    "As we can see just like with our Apple Store data set, 'Waze' once again is in domination of those in the 'Navigation' category. But this time multiple other applications in the same category like 'T map' and 'MapQuest' are able to carve their own userbase."
   ]
  },
  {
   "cell_type": "markdown",
   "metadata": {},
   "source": [
    "## Conclusion:"
   ]
  },
  {
   "cell_type": "markdown",
   "metadata": {},
   "source": [
    "In this project, we analyzed data about the App Store and Google Play mobile apps with the goal of recommending an app profile that can be profitable for both markets.\n",
    "\n",
    "Based on our research we can conclude that an application in a non saturated market like 'Navigation' will be profitable. We need to develop an application that has a particular niche that does not go against established applications like 'Google Maps' and 'Waze', but compliment them instead.\n",
    "\n",
    "'Navigation' applications has a higher chance staying installed in user's devices, this is because they consider it as a necessity and rather have it installed for when the need arises. And since our primary source of revenue is advertisements, users when using 'Navigation' applications tend to keep it open for a longer period of time compared to other type of applications. This is because, users use this type of applications as a guide for long distance drives or areas they are unfamiliar with."
   ]
  }
 ],
 "metadata": {
  "kernelspec": {
   "display_name": "Python 3",
   "language": "python",
   "name": "python3"
  },
  "language_info": {
   "codemirror_mode": {
    "name": "ipython",
    "version": 3
   },
   "file_extension": ".py",
   "mimetype": "text/x-python",
   "name": "python",
   "nbconvert_exporter": "python",
   "pygments_lexer": "ipython3",
   "version": "3.8.2"
  }
 },
 "nbformat": 4,
 "nbformat_minor": 2
}
